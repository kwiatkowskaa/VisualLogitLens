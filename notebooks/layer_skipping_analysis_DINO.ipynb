{
 "cells": [
  {
   "cell_type": "markdown",
   "id": "a1b20928",
   "metadata": {},
   "source": [
    "# Layer Skipping Analysis on DINO"
   ]
  },
  {
   "cell_type": "markdown",
   "id": "33bc69a9",
   "metadata": {},
   "source": [
    "This notebook analyzes information flow between layers in a transformer model (e.g., DINO ViT) to identify redundant layers that can potentially be skipped without significantly affecting classification performance. The analysis includes similarity comparisons between layer representations (using CKA, CKNNA, cosine similarity) and a linear probing experiment to test the impact of removing selected layers."
   ]
  },
  {
   "cell_type": "code",
   "execution_count": 1,
   "id": "e98cee55",
   "metadata": {},
   "outputs": [
    {
     "name": "stderr",
     "output_type": "stream",
     "text": [
      "c:\\Users\\olenk\\PWProjects\\WB_2_Project\\VisualLogitLens\\dino_env\\Lib\\site-packages\\tqdm\\auto.py:21: TqdmWarning: IProgress not found. Please update jupyter and ipywidgets. See https://ipywidgets.readthedocs.io/en/stable/user_install.html\n",
      "  from .autonotebook import tqdm as notebook_tqdm\n"
     ]
    }
   ],
   "source": [
    "import torch\n",
    "import torch.nn as nn\n",
    "import torch.nn.functional as F\n",
    "from torchvision import transforms\n",
    "import torchvision.datasets as datasets\n",
    "import torchvision.models as models\n",
    "\n",
    "from PIL import Image\n",
    "import timm\n",
    "import os\n",
    "\n",
    "import requests\n",
    "import matplotlib.pyplot as plt\n",
    "import seaborn as sns\n",
    "import numpy as np\n",
    "from tqdm import tqdm"
   ]
  },
  {
   "cell_type": "code",
   "execution_count": null,
   "id": "0e23d268",
   "metadata": {},
   "outputs": [],
   "source": [
    "# Load models\n",
    "vits16 = torch.hub.load('facebookresearch/dino:main', 'dino_vits16')\n",
    "vitb8 = torch.hub.load('facebookresearch/dino:main', 'dino_vitb8')"
   ]
  }
 ],
 "metadata": {
  "kernelspec": {
   "display_name": "dino_env",
   "language": "python",
   "name": "python3"
  },
  "language_info": {
   "codemirror_mode": {
    "name": "ipython",
    "version": 3
   },
   "file_extension": ".py",
   "mimetype": "text/x-python",
   "name": "python",
   "nbconvert_exporter": "python",
   "pygments_lexer": "ipython3",
   "version": "3.12.2"
  }
 },
 "nbformat": 4,
 "nbformat_minor": 5
}
